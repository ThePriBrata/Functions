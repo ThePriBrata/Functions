{
 "cells": [
  {
   "cell_type": "markdown",
   "id": "dad43a3b-442e-4dcd-ab75-9d4081a1a0af",
   "metadata": {},
   "source": [
    "# Function Assignment"
   ]
  },
  {
   "cell_type": "markdown",
   "id": "e34f84b8-73c5-4449-9335-9fb40a1e62ff",
   "metadata": {},
   "source": [
    "1. What is the difference between a function and a method in Python?\n",
    "    ANS:\n",
    "    Function: A function is a block of code that performs a specific task. It is defined using the def keyword and can be called anywhere in the cod\n",
    "    \n",
    "    EX:\n",
    "    def greet(name):\n",
    "        return f\"Hello, {name}!\"\n",
    "    \n",
    "    print(greet(\"Alice\"))  # Output: Hello, Alice!\n",
    "    \n",
    "    Method: A method is a function that is associated with an object and is called on that object. Methods are defined within classes.\n",
    "    \n",
    "    EX:\n",
    "    class Person:\n",
    "        def __init__(self, name):\n",
    "            self.name = name\n",
    "    \n",
    "        def greet(self):\n",
    "            return f\"Hello, {self.name}!\"\n",
    "    \n",
    "    person = Person(\"Alice\")\n",
    "    print(person.greet())  # Output: Hello, Alice!\n",
    "   \n",
    "2. Explain the concept of function arguments and parameters in Python.\n",
    "    ANS:Parameters: These are the variables listed inside the parentheses in the function definition.\n",
    "    \n",
    "    Arguments: These are the values passed to the function when it is called.\n",
    "    \n",
    "    EX:\n",
    "    def add(a, b):  # a and b are parameters\n",
    "        return a + b\n",
    "    \n",
    "    result = add(3, 5)  # 3 and 5 are arguments\n",
    "    print(result)  # Output: 8\n",
    "\n",
    "\n",
    "3. What are the different ways to define and call a function in Python?\n",
    "    ANS:Defining a function: Using the def keyword.\n",
    "\n",
    "    EX:\n",
    "    def greet(name):\n",
    "        return f\"Hello, {name}!\"\n",
    "    Calling a function: By using the function name followed by parentheses and any required arguments.\n",
    "    \n",
    "    EX:\n",
    "    print(greet(\"Alice\"))  # Output: Hello, Alice!\n",
    "\n",
    "4. What is the purpose of the return statement in a Python function?\n",
    "    ANS:The return statement is used to exit a function and return a value to the caller.\n",
    "    \n",
    "    EX:\n",
    "    def add(a, b):\n",
    "        return a + b\n",
    "    \n",
    "    result = add(3, 5)\n",
    "    print(result)  # Output: 8\n",
    "\n",
    "5. What are iterators in Python and how do they differ from iterables?\n",
    "    ANS:Iterable: An object that can return an iterator. Examples include lists, tuples, and strings.\n",
    "    \n",
    "    Iterator: An object with a __next__() method that returns the next item in the sequence.\n",
    "    \n",
    "    EX:\n",
    "    my_list = [1, 2, 3]\n",
    "    iterator = iter(my_list)  # Creating an iterator from a list\n",
    "    \n",
    "    print(next(iterator))  # Output: 1\n",
    "    print(next(iterator))  # Output: 2\n",
    "    print(next(iterator))  # Output: 3\n",
    "\n",
    "6. Explain the concept of generators in Python and how they are defined.\n",
    "    ANS:Generators: Functions that return an iterator and are defined using the yield keyword. They generate values on the fly and maintain their state between calls.\n",
    "    \n",
    "    EX:\n",
    "    def count_up_to(max):\n",
    "        count = 1\n",
    "        while count <= max:\n",
    "            yield count\n",
    "            count += 1\n",
    "    \n",
    "    counter = count_up_to(3)\n",
    "    print(next(counter))  # Output: 1\n",
    "    print(next(counter))  # Output: 2\n",
    "    print(next(counter))  # Output: 3\n",
    "\n",
    "7. What are the advantages of using generators over regular functions?\n",
    "    ANS:Memory efficiency: Generators yield items one at a time, making them more memory-efficient than functions that return lists.\n",
    "    \n",
    "    Lazy evaluation: Generators produce items only when requested, enabling lazy evaluation.\n",
    "    \n",
    "    EX:\n",
    "    def large_list():\n",
    "        return [i for i in range(1000000)]\n",
    "    \n",
    "    def large_generator():\n",
    "        for i in range(1000000):\n",
    "            yield i\n",
    "    \n",
    "     NOTE: large_list() creates a list with a million items, consuming significant memory.\n",
    "           large_generator() yields one item at a time, conserving memory.\n",
    "\n",
    "8. What is a lambda function in Python and when is it typically used?\n",
    "    ANS:Lambda Function: An anonymous function defined using the lambda keyword. It is used for short, throwaway functions.\n",
    "    \n",
    "    EX:\n",
    "    add = lambda a, b: a + b\n",
    "    print(add(3, 5))  # Output: 8\n",
    "\n",
    "9. Explain the purpose and usage of the map() function in Python.\n",
    "    ANS:map() Function: Applies a given function to all items in an iterable.\n",
    "    \n",
    "    EX:\n",
    "    def square(x):\n",
    "        return x * x\n",
    "    \n",
    "    numbers = [1, 2, 3, 4]\n",
    "    squared_numbers = list(map(square, numbers))\n",
    "    print(squared_numbers)  # Output: [1, 4, 9, 16]\n",
    "\n",
    "10. What is the difference between map(), reduce(), and filter() functions in Python?\n",
    "    ANS:map(): Applies a function to all items in an iterable and returns a map object.\n",
    "    \n",
    "    EX:\n",
    "    def square(x):\n",
    "        return x * x\n",
    "    \n",
    "    numbers = [1, 2, 3, 4]\n",
    "    squared_numbers = list(map(square, numbers))\n",
    "    print(squared_numbers)  # Output: [1, 4, 9, 16]\n",
    "    reduce(): Applies a function cumulatively to the items in an iterable, reducing it to a single value. Available in the functools module.\n",
    "    \n",
    "    EX:\n",
    "    from functools import reduce\n",
    "    \n",
    "    def add(a, b):\n",
    "        return a + b\n",
    "    \n",
    "    numbers = [1, 2, 3, 4]\n",
    "    sum_of_numbers = reduce(add, numbers)\n",
    "    print(sum_of_numbers)  # Output: 10\n",
    "    filter(): Applies a function to all items in an iterable and returns a filter object with items for which the function returns True.\n",
    "    \n",
    "    EX:\n",
    "    def is_even(x):\n",
    "        return x % 2 == 0\n",
    "    \n",
    "    numbers = [1, 2, 3, 4, 5, 6]\n",
    "    even_numbers = list(filter(is_even, numbers))\n",
    "    print(even_numbers)  # Output: [2, 4, 6]\n",
    "\n",
    "11.Write the internal mechanism for sum operation using reduce function on this given List:[47,11,42,13].    \n",
    "    Python Code using reduce()\n",
    "    \n",
    "    from functools import reduce\n",
    "    \n",
    "    # Given list\n",
    "    numbers = [47, 11, 42, 13]\n",
    "    \n",
    "    # Reduce function for sum\n",
    "    sum_result = reduce(lambda x, y: x + y, numbers)\n",
    "    \n",
    "    print(\"Sum:\", sum_result)\n",
    "    Internal Working (Step-by-Step Execution)\n",
    "    Initial List: [47, 11, 42, 13]\n",
    "    Step 1: 47 + 11 = 58\n",
    "    Step 2: 58 + 42 = 100\n",
    "    Step 3: 100 + 13 = 113\n",
    "    Final Result: 113\n",
    "\n",
    "    \n",
    "    Step-by-Step Execution in Python\n",
    "    \n",
    "    # Step 1\n",
    "    step1 = 47 + 11\n",
    "    print(f\"Step 1: 47 + 11 = {step1}\")\n",
    "    \n",
    "    # Step 2\n",
    "    step2 = step1 + 42\n",
    "    print(f\"Step 2: {step1} + 42 = {step2}\")\n",
    "    \n",
    "    # Step 3\n",
    "    final_result = step2 + 13\n",
    "    print(f\"Step 3: {step2} + 13 = {final_result}\")\n",
    "    \n",
    "    print(\"Final Sum:\", final_result)\n",
    "    \n",
    "    This process shows how reduce() works internally to calculate the sum step by step."
   ]
  },
  {
   "cell_type": "markdown",
   "id": "98b54ce3-0a2a-4d4b-86bc-c41b512cfd79",
   "metadata": {},
   "source": [
    "# PRACTICAL QUESTIONS"
   ]
  },
  {
   "cell_type": "code",
   "execution_count": 2,
   "id": "c8547d70-95e9-46ed-9e4d-aae62e130c78",
   "metadata": {},
   "outputs": [
    {
     "name": "stdout",
     "output_type": "stream",
     "text": [
      "12\n"
     ]
    }
   ],
   "source": [
    "#1. Write a Python function that takes a list of numbers as input and returns the sum of all even numbers in the list\n",
    "def sum_of_evens(numbers):\n",
    "    return sum(num for num in numbers if num % 2 == 0)\n",
    "\n",
    "# Example usage\n",
    "print(sum_of_evens([1, 2, 3, 4, 5, 6]))  # Output: 12\n"
   ]
  },
  {
   "cell_type": "code",
   "execution_count": 3,
   "id": "04bcc03e-a078-4683-875b-59d75c68d697",
   "metadata": {},
   "outputs": [
    {
     "name": "stdout",
     "output_type": "stream",
     "text": [
      "olleh\n"
     ]
    }
   ],
   "source": [
    "#2. Create a Python function that accepts a string and returns the reverse of that string.\n",
    "def reverse_string(s):\n",
    "    return s[::-1]\n",
    "\n",
    "# Example usage\n",
    "print(reverse_string(\"hello\"))  # Output: \"olleh\"\n"
   ]
  },
  {
   "cell_type": "code",
   "execution_count": 4,
   "id": "4cc867ea-c14d-42ed-8b1f-3bd86a3fdb5d",
   "metadata": {},
   "outputs": [
    {
     "name": "stdout",
     "output_type": "stream",
     "text": [
      "[1, 4, 9, 16]\n"
     ]
    }
   ],
   "source": [
    "# 3. Implement a Python function that takes a list of integers and returns a new list containing the squares of each number.\n",
    "def square_numbers(numbers):\n",
    "    return [num ** 2 for num in numbers]\n",
    "\n",
    "# Example usage\n",
    "print(square_numbers([1, 2, 3, 4]))  # Output: [1, 4, 9, 16]\n"
   ]
  },
  {
   "cell_type": "code",
   "execution_count": 5,
   "id": "a138fce9-625d-42b6-a4f0-d552d30dbb95",
   "metadata": {},
   "outputs": [
    {
     "name": "stdout",
     "output_type": "stream",
     "text": [
      "[2, 3, 5, 7, 11, 13, 17, 19, 23, 29, 31, 37, 41, 43, 47, 53, 59, 61, 67, 71, 73, 79, 83, 89, 97, 101, 103, 107, 109, 113, 127, 131, 137, 139, 149, 151, 157, 163, 167, 173, 179, 181, 191, 193, 197, 199]\n"
     ]
    }
   ],
   "source": [
    "#4. Write a Python function that checks if a given number is prime or not from 1 to 200.\n",
    "def is_prime(n):\n",
    "    if n < 2:\n",
    "        return False\n",
    "    for i in range(2, int(n ** 0.5) + 1):\n",
    "        if n % i == 0:\n",
    "            return False\n",
    "    return True\n",
    "\n",
    "# Find all primes from 1 to 200\n",
    "primes = [num for num in range(1, 201) if is_prime(num)]\n",
    "print(primes)  # Output: List of prime numbers\n"
   ]
  },
  {
   "cell_type": "code",
   "execution_count": 6,
   "id": "2a21c27e-f5c3-4e10-aa0f-6d87eb6f9c17",
   "metadata": {},
   "outputs": [
    {
     "name": "stdout",
     "output_type": "stream",
     "text": [
      "[0, 1, 1, 2, 3, 5, 8, 13, 21, 34]\n"
     ]
    }
   ],
   "source": [
    "#5. Create an iterator class in Python that generates the Fibonacci sequence up to a specified number of terms.\n",
    "class FibonacciIterator:\n",
    "    def __init__(self, max_terms):\n",
    "        self.max_terms = max_terms\n",
    "        self.a, self.b = 0, 1\n",
    "        self.count = 0\n",
    "\n",
    "    def __iter__(self):\n",
    "        return self\n",
    "\n",
    "    def __next__(self):\n",
    "        if self.count >= self.max_terms:\n",
    "            raise StopIteration\n",
    "        value = self.a\n",
    "        self.a, self.b = self.b, self.a + self.b\n",
    "        self.count += 1\n",
    "        return value\n",
    "\n",
    "# Example usage\n",
    "fib = FibonacciIterator(10)\n",
    "print(list(fib))  # Output: First 10 Fibonacci numbers\n"
   ]
  },
  {
   "cell_type": "code",
   "execution_count": 7,
   "id": "c2e8cd24-ad25-45ec-9110-e2efe6080fa8",
   "metadata": {},
   "outputs": [
    {
     "name": "stdout",
     "output_type": "stream",
     "text": [
      "[1, 2, 4, 8, 16, 32]\n"
     ]
    }
   ],
   "source": [
    "#6. Write a generator function in Python that yields the powers of 2 up to a given exponent.\n",
    "def powers_of_2(n):\n",
    "    for i in range(n + 1):\n",
    "        yield 2 ** i\n",
    "\n",
    "# Example usage\n",
    "print(list(powers_of_2(5)))  # Output: [1, 2, 4, 8, 16, 32]\n"
   ]
  },
  {
   "cell_type": "code",
   "execution_count": 9,
   "id": "3a713340-61de-4852-94df-aaf77ad36337",
   "metadata": {},
   "outputs": [],
   "source": [
    "#7. Implement a generator function that reads a file line by line and yields each line as a string.\n",
    "def read_file_line_by_line(file_path):\n",
    "    with open(file_path, \"r\") as file:\n",
    "        for line in file:\n",
    "            yield line.strip()\n",
    "\n",
    "# Example usage\n",
    "# for line in read_file_line_by_line(\"example.txt\"):\n",
    "#     print(line)\n"
   ]
  },
  {
   "cell_type": "code",
   "execution_count": 10,
   "id": "7938c9d0-5615-4265-8396-32de6fde8225",
   "metadata": {},
   "outputs": [
    {
     "name": "stdout",
     "output_type": "stream",
     "text": [
      "[(4, 1), (2, 3), (1, 5), (3, 8)]\n"
     ]
    }
   ],
   "source": [
    "#8. Use a lambda function in Python to sort a list of tuples based on the second element of each tuple.\n",
    "tuples_list = [(1, 5), (2, 3), (3, 8), (4, 1)]\n",
    "sorted_list = sorted(tuples_list, key=lambda x: x[1])\n",
    "print(sorted_list)  # Output: [(4, 1), (2, 3), (1, 5), (3, 8)]\n"
   ]
  },
  {
   "cell_type": "code",
   "execution_count": 11,
   "id": "a0c08fe6-d988-44ce-95bf-0a6b20f0ef60",
   "metadata": {},
   "outputs": [
    {
     "name": "stdout",
     "output_type": "stream",
     "text": [
      "[32.0, 50.0, 68.0, 86.0, 104.0]\n"
     ]
    }
   ],
   "source": [
    "# 9. Write a Python program that uses map() to convert a list of temperatures from Celsius to Fahrenheit.\n",
    "celsius = [0, 10, 20, 30, 40]\n",
    "fahrenheit = list(map(lambda c: (c * 9/5) + 32, celsius))\n",
    "print(fahrenheit)  # Output: [32.0, 50.0, 68.0, 86.0, 104.0]\n"
   ]
  },
  {
   "cell_type": "code",
   "execution_count": 12,
   "id": "63dddc34-51b6-4d2b-930b-40416e193dbf",
   "metadata": {},
   "outputs": [
    {
     "name": "stdout",
     "output_type": "stream",
     "text": [
      "Hll Wrld\n"
     ]
    }
   ],
   "source": [
    "# 10. Create a Python program that uses filter() to remove all the vowels from a given string\n",
    "def remove_vowels(s):\n",
    "    return \"\".join(filter(lambda x: x.lower() not in \"aeiou\", s))\n",
    "\n",
    "# Example usage\n",
    "print(remove_vowels(\"Hello World\"))  # Output: \"Hll Wrld\"\n"
   ]
  },
  {
   "cell_type": "code",
   "execution_count": 13,
   "id": "7d729982-fef1-4839-a682-2e658eb90efd",
   "metadata": {},
   "outputs": [
    {
     "name": "stdout",
     "output_type": "stream",
     "text": [
      "[(34587, 163.8), (98762, 284.0), (77226, 108.85000000000001), (88112, 84.97)]\n"
     ]
    },
    {
     "data": {
      "text/plain": [
       "'Explanation:\\nThe map() function processes each tuple in the orders list.\\nThe lambda function:\\nCalculates the total cost (quantity * price per item).\\nAdds 10 if the total is less than 100.\\nThe result is a list of tuples (order_number, final_total), as required.'"
      ]
     },
     "execution_count": 13,
     "metadata": {},
     "output_type": "execute_result"
    }
   ],
   "source": [
    "'''11) Imagine an accounting routine used in a book shop. It works on a list with sublists, which look like this:\n",
    "Order Number\tBook Title and Author\t\t\tQuantity\t\tPrice per Item\n",
    "34587\t\tLearning Python, Mark Lutz\t\t4\t\t\t40.95\n",
    "98762\t\tProgramming Python, Mark Lutz\t\t5\t\t\t56.80\n",
    "77226\t\tHead First Python, Paul Barry\t\t3\t\t\t32.95\n",
    "88112\t\tEinführung in Python3, Bernd Klein\t3\t\t\t24.99\n",
    "\n",
    "Write a Python program, which returns a list with 2-tuples. Each tuple consists of the order number and the product of the price per item and the quantity. The product should be increased by 10,- € if the value of the order is smaller than 100,00 €.\n",
    "Write a Python program using lambda and map.'''\n",
    "\n",
    "# Given book orders list\n",
    "orders = [\n",
    "    (34587, \"Learning Python, Mark Lutz\", 4, 40.95),\n",
    "    (98762, \"Programming Python, Mark Lutz\", 5, 56.80),\n",
    "    (77226, \"Head First Python, Paul Barry\", 3, 32.95),\n",
    "    (88112, \"Einführung in Python3, Bernd Klein\", 3, 24.99)\n",
    "]\n",
    "\n",
    "# Using map() and lambda function\n",
    "processed_orders = list(map(lambda order: \n",
    "    (order[0], order[2] * order[3] + (10 if order[2] * order[3] < 100 else 0)), orders))\n",
    "\n",
    "# Output result\n",
    "print(processed_orders)\n",
    "\n",
    "'''Explanation:\n",
    "The map() function processes each tuple in the orders list.\n",
    "The lambda function:\n",
    "Calculates the total cost (quantity * price per item).\n",
    "Adds 10 if the total is less than 100.\n",
    "The result is a list of tuples (order_number, final_total), as required.'''"
   ]
  },
  {
   "cell_type": "code",
   "execution_count": null,
   "id": "1fd40c1b-f7b7-4f80-ac7f-fdf92ebb814a",
   "metadata": {},
   "outputs": [],
   "source": []
  }
 ],
 "metadata": {
  "kernelspec": {
   "display_name": "Python 3 (ipykernel)",
   "language": "python",
   "name": "python3"
  },
  "language_info": {
   "codemirror_mode": {
    "name": "ipython",
    "version": 3
   },
   "file_extension": ".py",
   "mimetype": "text/x-python",
   "name": "python",
   "nbconvert_exporter": "python",
   "pygments_lexer": "ipython3",
   "version": "3.12.7"
  }
 },
 "nbformat": 4,
 "nbformat_minor": 5
}
